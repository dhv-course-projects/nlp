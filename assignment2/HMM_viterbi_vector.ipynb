{
 "cells": [
  {
   "cell_type": "code",
   "execution_count": 2,
   "metadata": {
    "colab": {
     "base_uri": "https://localhost:8080/"
    },
    "id": "9Wazr4h5Vr2Q",
    "outputId": "54a00e9a-225a-4c44-bdfc-e2d6bd5af530"
   },
   "outputs": [
    {
     "name": "stderr",
     "output_type": "stream",
     "text": [
      "[nltk_data] Downloading package brown to /root/nltk_data...\n",
      "[nltk_data]   Package brown is already up-to-date!\n",
      "[nltk_data] Downloading package universal_tagset to /root/nltk_data...\n",
      "[nltk_data]   Package universal_tagset is already up-to-date!\n",
      "[nltk_data] Downloading package punkt to /root/nltk_data...\n",
      "[nltk_data]   Package punkt is already up-to-date!\n"
     ]
    }
   ],
   "source": [
    "import numpy as np\n",
    "import nltk\n",
    "from nltk.corpus import brown\n",
    "import math\n",
    "from sklearn import metrics\n",
    "nltk.download(\"brown\")\n",
    "nltk.download(\"universal_tagset\")\n",
    "nltk.download(\"punkt\")\n",
    "\n",
    "import gensim\n",
    "import gensim.downloader\n",
    "from gensim.models import Word2Vec, KeyedVectors"
   ]
  },
  {
   "cell_type": "code",
   "execution_count": 3,
   "metadata": {
    "id": "2zjcNnx6hifC"
   },
   "outputs": [],
   "source": [
    "import re\n",
    "def preprocess_word(word):\n",
    "  word = word.lower()\n",
    "  word = re.sub(\"n't\",\"\",word)\n",
    "  word = re.sub(\"[0-9]+\",\"1\",word)\n",
    "  return word\n",
    "preprocess = np.vectorize(preprocess_word)"
   ]
  },
  {
   "cell_type": "code",
   "execution_count": 36,
   "metadata": {
    "id": "XQP0qcgWhPAo"
   },
   "outputs": [],
   "source": [
    "def most_similar(wv_matrix, vector):\n",
    "  # wv_matrix is number-of-words x dimension-of-wv\n",
    "  return np.argmax(KeyedVectors.cosine_similarities(vector, wv_matrix))\n",
    "  # return np.argmax(wv_matrix@np.reshape(vector, (-1,1)))"
   ]
  },
  {
   "cell_type": "code",
   "execution_count": 18,
   "metadata": {
    "id": "vQ_o-xFzwoK_"
   },
   "outputs": [],
   "source": [
    "google_wv = gensim.downloader.load('word2vec-google-news-300')"
   ]
  },
  {
   "cell_type": "code",
   "execution_count": 23,
   "metadata": {
    "id": "LZleEVJZX_JQ"
   },
   "outputs": [],
   "source": [
    "google_wv.save(\"google_wv.wordvectors\")"
   ]
  },
  {
   "cell_type": "code",
   "execution_count": 4,
   "metadata": {
    "id": "sw0X8dCWYHUK"
   },
   "outputs": [],
   "source": [
    "google_wv = KeyedVectors.load(\"google_wv.wordvectors\", mmap='r')"
   ]
  },
  {
   "cell_type": "code",
   "execution_count": 26,
   "metadata": {
    "id": "5gZK2aoveZzs"
   },
   "outputs": [],
   "source": [
    "wv_mean = 0\n",
    "wv_std = 1\n",
    "dim_wv = 300"
   ]
  },
  {
   "cell_type": "code",
   "execution_count": 37,
   "metadata": {
    "id": "HCP70-ZxUg-A"
   },
   "outputs": [],
   "source": [
    "class POS_tagger:\n",
    "  def __init__(self, train_sentences):\n",
    "    self.sentences = train_sentences\n",
    "    self.words = []\n",
    "    self.lexical_probability = None\n",
    "    self.inference = None\n",
    "\n",
    "    self.tagset = None\n",
    "    self.tagset_len = 0\n",
    "    \n",
    "    self.vocab = None\n",
    "    self.word_to_id = None  # dictionary (word : id)\n",
    "    self.vocab_len = 0\n",
    "    \n",
    "    self.word_to_vec = None # the words in corpus vocabulary (num_words x wv_dimension)\n",
    "\n",
    "    self.smoothing = None   # vectorised function (numpy) for smoothing (in test sentence)\n",
    "  \n",
    "  def initialise(self):\n",
    "    \n",
    "    for sentence in self.sentences:\n",
    "      for tupl in sentence:\n",
    "        self.words.append(tupl)\n",
    "\n",
    "    self.words = np.array(self.words)\n",
    "    self.words[:,0] = preprocess(self.words[:,0])\n",
    "\n",
    "    self.tagset = np.unique(self.words[:,1])\n",
    "    \n",
    "    self.vocab, word_count = np.unique(self.words[:,0], return_counts = True)\n",
    "    # self.vocab = self.vocab[word_count > 1]\n",
    "\n",
    "    self.word_to_id = dict(zip(self.vocab, np.arange(self.vocab.size)))\n",
    "    # self.word_to_id[\"UNK\"] = self.vocab.size\n",
    "\n",
    "    self.vocab_len = len(self.word_to_id)\n",
    "    self.tagset_len = len(self.tagset)\n",
    "\n",
    "    self.word_to_vec = np.zeros((self.vocab_len, dim_wv))\n",
    "    for word in self.vocab:\n",
    "      if word in google_wv:\n",
    "        self.word_to_vec[self.word_to_id[word],:] = google_wv[word]\n",
    "      else:\n",
    "        self.word_to_vec[self.word_to_id[word],:] = np.random.normal(wv_mean,wv_std,dim_wv)\n",
    "\n",
    "    def smooth(word):\n",
    "      if word not in self.word_to_id:\n",
    "        if word in google_wv:\n",
    "          wv = google_wv[word]\n",
    "        else:\n",
    "          wv = np.random.normal(wv_mean,wv_std,dim_wv)\n",
    "        return self.vocab[most_similar(self.word_to_vec,wv)]\n",
    "      else:\n",
    "        return word\n",
    "    self.smoothing = np.vectorize(smooth)\n",
    "\n",
    "    # self.words[:,0] = self.smoothing(self.words[:,0])\n",
    "\n",
    "    self.lexical_probability = np.zeros((self.tagset_len, self.vocab_len))\n",
    "    self.inference = np.zeros((self.tagset_len+2, self.tagset_len+2))\n",
    "\n",
    "  def train(self):\n",
    "    self.initialise()\n",
    "\n",
    "    for tag_index in range(self.tagset_len):\n",
    "      tag = self.tagset[tag_index]\n",
    "      tokens, count = np.unique(self.words[np.where(self.words[:,1] == tag), 0], return_counts = True)\n",
    "      token_indices = [self.word_to_id[token] for token in tokens]\n",
    "      self.lexical_probability[tag_index][token_indices] = count\n",
    "\n",
    "    self.lexical_probability = self.lexical_probability / self.lexical_probability.sum(1).reshape(self.lexical_probability.shape[0],1)\n",
    "\n",
    "    for sentence in self.sentences:\n",
    "      prev_tag = None\n",
    "      for (word,tag) in sentence:\n",
    "        if prev_tag == None:\n",
    "          from_tag = 0\n",
    "          to_tag =  np.searchsorted(self.tagset,tag) + 1\n",
    "        elif word in [\".\",\"?\"]:\n",
    "          from_tag = np.searchsorted(self.tagset,prev_tag) + 1\n",
    "          to_tag = self.tagset_len + 1\n",
    "        else:\n",
    "          from_tag = np.searchsorted(self.tagset,prev_tag) + 1\n",
    "          to_tag =  np.searchsorted(self.tagset,tag) + 1\n",
    "        self.inference[from_tag][to_tag] += 1\n",
    "        prev_tag = tag\n",
    "    self.inference[-1,0] = 1\n",
    "    self.inference = self.inference / self.inference.sum(1).reshape(self.inference.shape[0],1)\n",
    "\n",
    "  def tag(self,sentence):\n",
    "    sentence = np.array(sentence, dtype=\"object\")\n",
    "    sentence = self.smoothing(preprocess(sentence))\n",
    "    sentence = preprocess(sentence)\n",
    "\n",
    "    ends_properly = True\n",
    "    if sentence[-1] not in [\".\",\"?\",\"!\"]:\n",
    "      sentence = np.append(sentence, \".\")\n",
    "      ends_properly = False\n",
    "    \n",
    "    prob = np.zeros((self.tagset_len,1))\n",
    "    tags_chain = np.full((self.tagset_len, len(sentence) - 1), -1)\n",
    "    last_word_tag = None\n",
    "    \n",
    "    for i in range(len(sentence)):\n",
    "      if i == 0:\n",
    "        prob = self.inference[0][1:-1]\n",
    "        tags_chain[:,i] = -1\n",
    "        continue\n",
    "      \n",
    "      word = sentence[i-1]\n",
    "      lp = self.lexical_probability[:, self.word_to_id[word]]\n",
    "      # if(np.max(prob)<0.0000001):   # to prevent probabilities underflowing to zero\n",
    "      #   prob=prob/np.max(prob)\n",
    "      prob = prob*lp\n",
    "\n",
    "      if i == len(sentence) - 1:\n",
    "        prob = prob*self.inference[1:-1,-1]\n",
    "        last_word_tag = np.argmax(prob)\n",
    "        break\n",
    "      else:\n",
    "        p_inf = prob.reshape((self.tagset_len,1))*self.inference[1:-1, 1:-1]\n",
    "        indices = np.argmax(p_inf, axis = 0)\n",
    "        prob = p_inf[indices,np.arange(self.tagset_len)]\n",
    "        tags_chain[:,i] = indices\n",
    "\n",
    "    tagged_sentence = np.array([[word,\"\"] for word in sentence], dtype=\"object\")\n",
    "    iter = len(sentence) - 1\n",
    "    while iter >=0 :\n",
    "      if iter == len(sentence) - 1:\n",
    "        tag_index = 0\n",
    "      else:\n",
    "        tag_index = last_word_tag\n",
    "        last_word_tag = tags_chain[last_word_tag, iter]\n",
    "\n",
    "      tagged_sentence[iter][1] = self.tagset[tag_index]\n",
    "      \n",
    "      iter -= 1\n",
    "    \n",
    "    if not ends_properly: # remove the full stop we appended\n",
    "      tagged_sentence = tagged_sentence[:-1]\n",
    "    \n",
    "    return tagged_sentence  "
   ]
  },
  {
   "cell_type": "code",
   "execution_count": 17,
   "metadata": {
    "id": "ZXh7d-haigw9"
   },
   "outputs": [],
   "source": [
    "frac = 0.8\n",
    "all_sentences = np.array(brown.tagged_sents(tagset=\"universal\"), dtype=\"object\")\n",
    "n_total = len(all_sentences)\n",
    "n_train = math.floor(n_total*frac)\n",
    "\n",
    "indices = np.arange(n_total)\n",
    "np.random.shuffle(indices)\n",
    "\n",
    "train_sents = all_sentences[ indices[ : n_train] ]\n",
    "val_sents = all_sentences[ indices[n_train : ] ]"
   ]
  },
  {
   "cell_type": "code",
   "execution_count": 38,
   "metadata": {
    "id": "JlnMegT_i3Yn"
   },
   "outputs": [],
   "source": [
    "myTagger = POS_tagger(train_sents)"
   ]
  },
  {
   "cell_type": "code",
   "execution_count": 39,
   "metadata": {
    "id": "sMACMrqdi9Ea"
   },
   "outputs": [],
   "source": [
    "myTagger.train()"
   ]
  },
  {
   "cell_type": "code",
   "execution_count": 40,
   "metadata": {
    "colab": {
     "base_uri": "https://localhost:8080/"
    },
    "id": "jISuo0GijOxN",
    "outputId": "5c22eb6c-2501-4712-ce84-bf4ad1dd63ee"
   },
   "outputs": [
    {
     "data": {
      "text/plain": [
       "[('Never', 'ADV'),\n",
       " ('going', 'VERB'),\n",
       " ('to', 'PRT'),\n",
       " ('give', 'VERB'),\n",
       " ('you', 'PRON'),\n",
       " ('up', 'PRT')]"
      ]
     },
     "execution_count": 40,
     "metadata": {},
     "output_type": "execute_result"
    }
   ],
   "source": [
    "def tag(sentence):  # sentence as a string\n",
    "  sentence = nltk.tokenize.word_tokenize(sentence)\n",
    "  tags = myTagger.tag(sentence)[:,1]\n",
    "  return list(zip(sentence, tags))\n",
    "\n",
    "tag(\"Never going to give you up\")"
   ]
  },
  {
   "cell_type": "code",
   "execution_count": 41,
   "metadata": {
    "id": "ZOFy1aWyj_JL"
   },
   "outputs": [],
   "source": [
    "pred = []\n",
    "true = []\n",
    "for sentence in val_sents:\n",
    "  sentence = np.array(sentence)\n",
    "  true = true + list(sentence[:,1])\n",
    "  if len(sentence) == 1:\n",
    "    pred = pred + [\".\"]\n",
    "  else:\n",
    "    pred = pred + list(myTagger.tag(sentence[:,0])[:,1])"
   ]
  },
  {
   "cell_type": "code",
   "execution_count": 42,
   "metadata": {
    "colab": {
     "base_uri": "https://localhost:8080/"
    },
    "id": "RKlZg6BlkgqQ",
    "outputId": "e8f074d4-b52d-4e2d-abcd-ea2b38b699b0"
   },
   "outputs": [
    {
     "name": "stdout",
     "output_type": "stream",
     "text": [
      "              precision    recall  f1-score   support\n",
      "\n",
      "           .     0.9971    1.0000    0.9985     29631\n",
      "         ADJ     0.9099    0.9183    0.9141     16617\n",
      "         ADP     0.9652    0.9672    0.9662     28811\n",
      "         ADV     0.9023    0.9038    0.9030     11331\n",
      "        CONJ     0.9935    0.9923    0.9929      7556\n",
      "         DET     0.9922    0.9855    0.9888     27328\n",
      "        NOUN     0.9617    0.9620    0.9619     54965\n",
      "         NUM     0.9731    0.9789    0.9760      2843\n",
      "        PRON     0.9692    0.9864    0.9777      9930\n",
      "         PRT     0.9020    0.9063    0.9041      5797\n",
      "        VERB     0.9675    0.9606    0.9640     36305\n",
      "           X     0.6597    0.4214    0.5143       299\n",
      "\n",
      "    accuracy                         0.9642    231413\n",
      "   macro avg     0.9328    0.9152    0.9218    231413\n",
      "weighted avg     0.9642    0.9642    0.9642    231413\n",
      "\n"
     ]
    }
   ],
   "source": [
    "print(metrics.classification_report(true, pred, digits=4))"
   ]
  },
  {
   "cell_type": "code",
   "execution_count": 43,
   "metadata": {
    "colab": {
     "base_uri": "https://localhost:8080/",
     "height": 526
    },
    "id": "oBBzhKkmkkAC",
    "outputId": "7c7d0b09-2cf5-4dce-c83e-fe5f36263f8b"
   },
   "outputs": [
    {
     "data": {
      "image/png": "[encoded data removed]",
      "text/plain": [
       "<Figure size 648x648 with 2 Axes>"
      ]
     },
     "metadata": {
      "needs_background": "light"
     },
     "output_type": "display_data"
    }
   ],
   "source": [
    "# cm = metrics.confusion_matrix(true,pred)\n",
    "# print(cm)\n",
    "# metrics.ConfusionMatrixDisplay(confusion_matrix = cm, display_labels = preprocess(myTagger.tagset)).plot(include_values = False)\n",
    "disp = metrics.ConfusionMatrixDisplay.from_predictions( true, pred, labels=myTagger.tagset, display_labels=myTagger.tagset, values_format='') \n",
    "fig = disp.ax_.get_figure() \n",
    "fig.set_figwidth(9)\n",
    "fig.set_figheight(9)  "
   ]
  },
  {
   "cell_type": "code",
   "execution_count": 44,
   "metadata": {
    "id": "dp41Dd6AlStx"
   },
   "outputs": [],
   "source": [
    "frac = 0.2\n",
    "all_sentences = np.array(brown.tagged_sents(tagset=\"universal\"), dtype=\"object\")\n",
    "n_total = len(all_sentences)\n",
    "n_val = math.floor(n_total*frac)\n",
    "\n",
    "indices = np.arange(n_total)\n",
    "np.random.shuffle(indices)\n",
    "\n",
    "cross_valdation_accuracies = np.zeros(5)\n",
    "\n",
    "for k in range(5):\n",
    "  tmp = np.floor(np.arange(n_total)/n_val)\n",
    "  train_ids = indices[ tmp != k ]\n",
    "  val_ids = indices[ tmp == k ]\n",
    "  \n",
    "  train_sents = all_sentences[ train_ids ]\n",
    "  val_sents = all_sentences[ val_ids ]\n",
    "\n",
    "  myTagger = POS_tagger(train_sents)\n",
    "  myTagger.train()\n",
    "\n",
    "  pred = []\n",
    "  true = []\n",
    "  for sentence in val_sents:\n",
    "    sentence = np.array(sentence)\n",
    "    true = true + list(sentence[:,1])\n",
    "    if len(sentence) == 1:\n",
    "      pred = pred + [\".\"]\n",
    "    else:\n",
    "      pred = pred + list(myTagger.tag(sentence[:,0])[:,1])\n",
    "\n",
    "  from sklearn import metrics\n",
    "  cm = metrics.confusion_matrix(true,pred)\n",
    "\n",
    "  cross_valdation_accuracies[k] = np.trace(cm)/np.sum(cm)"
   ]
  },
  {
   "cell_type": "code",
   "execution_count": 45,
   "metadata": {
    "colab": {
     "base_uri": "https://localhost:8080/"
    },
    "id": "S0o-RSzTl1OT",
    "outputId": "b5316aeb-3ec6-4c3a-a71f-6fb7dce5b94c"
   },
   "outputs": [
    {
     "name": "stdout",
     "output_type": "stream",
     "text": [
      "[0.96424352 0.96325828 0.96440244 0.96463117 0.96430247]\n",
      "0.9641675736687461\n"
     ]
    }
   ],
   "source": [
    "print(cross_valdation_accuracies)\n",
    "print(cross_valdation_accuracies.mean())"
   ]
  },
  {
   "cell_type": "code",
   "execution_count": null,
   "metadata": {
    "id": "YmreCvyemba-"
   },
   "outputs": [],
   "source": []
  }
 ],
 "metadata": {
  "colab": {
   "provenance": []
  },
  "kernelspec": {
   "display_name": "Python 3 (ipykernel)",
   "language": "python",
   "name": "python3"
  },
  "language_info": {
   "codemirror_mode": {
    "name": "ipython",
    "version": 3
   },
   "file_extension": ".py",
   "mimetype": "text/x-python",
   "name": "python",
   "nbconvert_exporter": "python",
   "pygments_lexer": "ipython3",
   "version": "3.8.10"
  }
 },
 "nbformat": 4,
 "nbformat_minor": 4
}
