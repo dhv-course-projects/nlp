{
  "nbformat": 4,
  "nbformat_minor": 0,
  "metadata": {
    "colab": {
      "provenance": []
    },
    "kernelspec": {
      "name": "python3",
      "display_name": "Python 3"
    },
    "language_info": {
      "name": "python"
    }
  },
  "cells": [
    {
      "cell_type": "code",
      "execution_count": 106,
      "metadata": {
        "colab": {
          "base_uri": "https://localhost:8080/"
        },
        "id": "h0Z3kTd_ov3C",
        "outputId": "36fa0bc4-184c-407b-a273-3ac003fa3f9c"
      },
      "outputs": [
        {
          "output_type": "stream",
          "name": "stderr",
          "text": [
            "[nltk_data] Downloading package brown to /root/nltk_data...\n",
            "[nltk_data]   Package brown is already up-to-date!\n",
            "[nltk_data] Downloading package universal_tagset to /root/nltk_data...\n",
            "[nltk_data]   Package universal_tagset is already up-to-date!\n",
            "[nltk_data] Downloading package punkt to /root/nltk_data...\n",
            "[nltk_data]   Package punkt is already up-to-date!\n"
          ]
        }
      ],
      "source": [
        "import numpy as np\n",
        "import nltk\n",
        "from nltk.corpus import brown\n",
        "import math\n",
        "from sklearn import metrics\n",
        "nltk.download(\"brown\")\n",
        "nltk.download(\"universal_tagset\")\n",
        "nltk.download(\"punkt\")\n",
        "\n",
        "import gensim\n",
        "import gensim.downloader\n",
        "from gensim.models import Word2Vec, KeyedVectors\n",
        "\n",
        "import torch"
      ]
    },
    {
      "cell_type": "code",
      "source": [
        "import re\n",
        "# def preprocess_word(word):\n",
        "#   word = word.lower()\n",
        "#   word = re.sub(\"n't\",\"\",word)\n",
        "#   word = re.sub(\"[0-9]+\",\"1\",word)\n",
        "#   return word\n",
        "\n",
        "def remove_comma(match_obj):\n",
        "    if match_obj.group(2) is not None:\n",
        "        return match_obj.group(1)+match_obj.group(3)\n",
        "def remove_1dash(match_obj):\n",
        "    if match_obj.group(1) is not None:\n",
        "        return match_obj.group(2)\n",
        "def preprocess_word(w):\n",
        "    w=w.lower()\n",
        "    w=re.sub(\"n't\",\"\",w)\n",
        "    w=re.sub(\"ed$\",\"ing\",w)\n",
        "    w= re.sub(r\"([a-zA-Z])(,+)([a-zA-Z])\", remove_comma, w)\n",
        "    w= re.sub(r\"([0-9]+)([,.]+)([0-9]+)\", remove_comma, w)\n",
        "    w=re.sub(\"[0-9]+\",\"1\",w)\n",
        "    w=re.sub(\"\\$.+\",\"$\",w)\n",
        "    w= re.sub(r\"(1\\-)(.+)\", remove_1dash, w)\n",
        "    return w\n",
        "\n",
        "preprocess = np.vectorize(preprocess_word)"
      ],
      "metadata": {
        "id": "MoJDCDnRo3C5"
      },
      "execution_count": 156,
      "outputs": []
    },
    {
      "cell_type": "code",
      "source": [
        "google_wv = gensim.downloader.load('word2vec-google-news-300')"
      ],
      "metadata": {
        "colab": {
          "base_uri": "https://localhost:8080/"
        },
        "id": "ZGr6-gJSpPYv",
        "outputId": "b0e772eb-a892-4c68-b452-cc72335cf1fa"
      },
      "execution_count": 5,
      "outputs": [
        {
          "output_type": "stream",
          "name": "stdout",
          "text": [
            "[==================================================] 100.0% 1662.8/1662.8MB downloaded\n"
          ]
        }
      ]
    },
    {
      "cell_type": "code",
      "source": [
        "google_wv.save(\"google_wv.wordvectors\")"
      ],
      "metadata": {
        "id": "Pb6CcuJ_pL2M"
      },
      "execution_count": 6,
      "outputs": []
    },
    {
      "cell_type": "code",
      "source": [
        "google_wv = KeyedVectors.load(\"google_wv.wordvectors\", mmap='r')"
      ],
      "metadata": {
        "id": "JpxaN6kFpLHy"
      },
      "execution_count": 7,
      "outputs": []
    },
    {
      "cell_type": "code",
      "source": [
        "wv_mean = 0.0\n",
        "wv_std = 1.0\n",
        "dim_wv = 300"
      ],
      "metadata": {
        "id": "u6QttNpvpUvk"
      },
      "execution_count": 39,
      "outputs": []
    },
    {
      "cell_type": "code",
      "source": [
        "def get_wv(word):\n",
        "  if word == None:\n",
        "    wv = torch.zeros(dim_wv)\n",
        "    return wv\n",
        "  word = preprocess_word(word)\n",
        "  if word in google_wv:\n",
        "    wv = torch.tensor(google_wv[word])\n",
        "  else:\n",
        "    wv = torch.normal(wv_mean, wv_std, (dim_wv,))\n",
        "  return wv"
      ],
      "metadata": {
        "id": "4bPwdRzNOHId"
      },
      "execution_count": 295,
      "outputs": []
    },
    {
      "cell_type": "code",
      "source": [
        "class FFNN(torch.nn.Module):\n",
        "  def __init__(self):\n",
        "    super(FFNN, self).__init__()\n",
        "    n_hidden = 100\n",
        "    n_hidden2 = 50\n",
        "    self.first = torch.nn.Linear(dim_wv*3, n_hidden)\n",
        "    self.second = torch.nn.Linear(n_hidden, n_hidden2)\n",
        "    self.third = torch.nn.Linear(n_hidden2, 12)\n",
        "  def forward(self, X):\n",
        "    relu = torch.nn.functional.relu\n",
        "    X = self.third(relu(self.second(relu(self.first(X)))))\n",
        "    X = torch.nn.functional.softmax(X, dim=1)\n",
        "    return X"
      ],
      "metadata": {
        "id": "6nNVqsL0MH4o"
      },
      "execution_count": 296,
      "outputs": []
    },
    {
      "cell_type": "code",
      "source": [
        "class POS_tagger:\n",
        "  def __init__(self, train_sentences):\n",
        "    self.sentences = train_sentences\n",
        "\n",
        "    self.tagset = np.array([ '.' , 'ADJ' , 'ADP' , 'ADV' , 'CONJ' , 'DET' , 'NOUN' , 'NUM' , 'PRON' , 'PRT' , 'VERB' , 'X' ])\n",
        "    self.tag_to_id = dict(zip(self.tagset, np.arange(12)))\n",
        "\n",
        "    self.ffnn = None\n",
        "\n",
        "  def train(self):\n",
        "\n",
        "    n_epochs = 2\n",
        "    batch_size = 64\n",
        "\n",
        "    n_total = int(np.ceil(len(self.sentences)/batch_size))\n",
        "\n",
        "    self.ffnn = FFNN()\n",
        "    optimizer = torch.optim.Adam(self.ffnn.parameters(), lr=0.01)\n",
        "    \n",
        "    for epoch in range(n_epochs):\n",
        "      for batch in range(n_total):\n",
        "        sentences = self.sentences[batch*batch_size: min((batch+1)*batch_size, len(self.sentences))]\n",
        "\n",
        "        triples = []  # [ ... (prev_word, current_word, next_word, current_tag) ... ]\n",
        "        for i in range(len(sentences)):\n",
        "          sent = sentences[i]\n",
        "          prev = None\n",
        "          for j in range(len(sent)):\n",
        "            word = sent[j][0]  # word\n",
        "            tag = sent[j][1]   # tag\n",
        "            if tag == '.':  # trying something\n",
        "              continue\n",
        "            if j == len(sent)-1:\n",
        "              next = None\n",
        "            else:\n",
        "              next = sent[j+1][0]\n",
        "            triples.append((prev, word, next, tag))\n",
        "            prev = word\n",
        "\n",
        "        N = len(triples)\n",
        "        X_train = torch.zeros((N, 3*dim_wv))\n",
        "        Y_true = torch.zeros((N, 12))\n",
        "\n",
        "        for i in range(N):\n",
        "          triple = triples[i]\n",
        "          Y_true[i][self.tag_to_id[triple[3]]] = 1\n",
        "          X_train[i][0:dim_wv] = get_wv(triple[0])\n",
        "          X_train[i][dim_wv:2*dim_wv] = get_wv(triple[1])\n",
        "          X_train[i][2*dim_wv:3*dim_wv] = get_wv(triple[2])\n",
        "        \n",
        "        optimizer.zero_grad()\n",
        "        prediction = self.ffnn(X_train)\n",
        "        loss = (-Y_true*torch.log(prediction)).sum(axis = 1).mean(axis = 0)\n",
        "        loss.backward()\n",
        "        optimizer.step()\n",
        "\n",
        "        # if batch%10 == 0:\n",
        "        #   print(f\"epoch {epoch} batch {batch} loss: {loss}\")\n",
        "\n",
        "  def tag(self,sentence):\n",
        "    sentence = np.array(sentence, dtype=\"object\")\n",
        "    sentence = preprocess(sentence)\n",
        "\n",
        "    # X = torch.zeros(3*dim_wv)\n",
        "\n",
        "    triples = []  # [ ... (prev_word, current_word, next_word) ... ]\n",
        "    non_punc_indices = []   # trying something\n",
        "    prev = None\n",
        "    for j in range(len(sentence)):\n",
        "      word = sentence[j]\n",
        "      if word in ['!', \"'\", \"''\", '(', ')', ',', '--', '.', ':', ';', '?', '[', ']','``']:\n",
        "        continue\n",
        "      else:\n",
        "        non_punc_indices.append(j)\n",
        "      if j == len(sentence)-1:\n",
        "        next = None\n",
        "      else:\n",
        "        next = sentence[j+1][0]\n",
        "      triples.append((prev, word, next))\n",
        "      prev = word\n",
        "\n",
        "    N = len(triples)\n",
        "    X_test = torch.zeros((N, 3*dim_wv))\n",
        "    Y_pred = torch.zeros((N, 12))\n",
        "\n",
        "    for i in range(N):\n",
        "      triple = triples[i]\n",
        "      X_test[i][0:dim_wv] = get_wv(triple[0])\n",
        "      X_test[i][dim_wv:2*dim_wv] = get_wv(triple[1])\n",
        "      X_test[i][2*dim_wv:3*dim_wv] = get_wv(triple[2])\n",
        "    \n",
        "    Y_pred = self.ffnn(X_test)\n",
        "\n",
        "    tag_id = torch.argmax(Y_pred, dim = 1).numpy()\n",
        "    # tag_id[tag_id > 11] = 11\n",
        "    tags = self.tagset[tag_id]\n",
        "\n",
        "    tagged_sentence = np.array([[word,\".\"] for word in sentence], dtype=\"object\")   # trying something\n",
        "    tagged_sentence[non_punc_indices,1] = tags  # trying something\n",
        "    return tagged_sentence"
      ],
      "metadata": {
        "id": "rYoCrRcWozvN"
      },
      "execution_count": 322,
      "outputs": []
    },
    {
      "cell_type": "code",
      "source": [
        "frac = 0.8\n",
        "all_sentences = np.array(brown.tagged_sents(tagset=\"universal\"), dtype=\"object\")\n",
        "n_total = len(all_sentences)\n",
        "n_train = math.floor(n_total*frac)\n",
        "\n",
        "indices = np.arange(n_total)\n",
        "np.random.shuffle(indices)\n",
        "\n",
        "train_sents = all_sentences[ indices[ : n_train] ]\n",
        "val_sents = all_sentences[ indices[n_train : ] ]"
      ],
      "metadata": {
        "id": "n6FsSV6q_MsS"
      },
      "execution_count": 12,
      "outputs": []
    },
    {
      "cell_type": "code",
      "source": [
        "myTagger = POS_tagger(train_sents)"
      ],
      "metadata": {
        "id": "P3pA0uHe_RVV"
      },
      "execution_count": 312,
      "outputs": []
    },
    {
      "cell_type": "code",
      "source": [
        "myTagger.train()"
      ],
      "metadata": {
        "colab": {
          "base_uri": "https://localhost:8080/"
        },
        "id": "q3epHBM9_TRT",
        "outputId": "4f9c5114-06ec-41f2-b208-77e3263f565e"
      },
      "execution_count": 313,
      "outputs": [
        {
          "output_type": "stream",
          "name": "stdout",
          "text": [
            "epoch 0 batch 0 loss: 2.4896442890167236\n",
            "epoch 0 batch 10 loss: 1.6285635232925415\n",
            "epoch 0 batch 20 loss: 1.5006996393203735\n",
            "epoch 0 batch 30 loss: 1.231275200843811\n",
            "epoch 0 batch 40 loss: 1.0693597793579102\n",
            "epoch 0 batch 50 loss: 0.8676422834396362\n",
            "epoch 0 batch 60 loss: 0.8972181677818298\n",
            "epoch 0 batch 70 loss: 0.8248591423034668\n",
            "epoch 0 batch 80 loss: 0.720291256904602\n",
            "epoch 0 batch 90 loss: 0.5848268270492554\n",
            "epoch 0 batch 100 loss: 0.6415686011314392\n",
            "epoch 0 batch 110 loss: 0.5660018920898438\n",
            "epoch 0 batch 120 loss: 0.6832221150398254\n",
            "epoch 0 batch 130 loss: 0.6029521226882935\n",
            "epoch 0 batch 140 loss: 0.5558851957321167\n",
            "epoch 0 batch 150 loss: 0.5316277146339417\n",
            "epoch 0 batch 160 loss: 0.5332785844802856\n",
            "epoch 0 batch 170 loss: 0.4907408058643341\n",
            "epoch 0 batch 180 loss: 0.5689565539360046\n",
            "epoch 0 batch 190 loss: 0.5278000235557556\n",
            "epoch 0 batch 200 loss: 0.4467122554779053\n",
            "epoch 0 batch 210 loss: 0.5258432626724243\n",
            "epoch 0 batch 220 loss: 0.5097557306289673\n",
            "epoch 0 batch 230 loss: 0.46450117230415344\n",
            "epoch 0 batch 240 loss: 0.43764349818229675\n",
            "epoch 0 batch 250 loss: 0.4455451965332031\n",
            "epoch 0 batch 260 loss: 0.4584129750728607\n",
            "epoch 0 batch 270 loss: 0.45466601848602295\n",
            "epoch 0 batch 280 loss: 0.4385744631290436\n",
            "epoch 0 batch 290 loss: 0.49858251214027405\n",
            "epoch 0 batch 300 loss: 0.5512278079986572\n",
            "epoch 0 batch 310 loss: 0.46463742852211\n",
            "epoch 0 batch 320 loss: 0.45490115880966187\n",
            "epoch 0 batch 330 loss: 0.4476013779640198\n",
            "epoch 0 batch 340 loss: 0.38344457745552063\n",
            "epoch 0 batch 350 loss: 0.4479454457759857\n",
            "epoch 0 batch 360 loss: 0.3928993344306946\n",
            "epoch 0 batch 370 loss: 0.40904101729393005\n",
            "epoch 0 batch 380 loss: 0.3973962962627411\n",
            "epoch 0 batch 390 loss: 0.44122856855392456\n",
            "epoch 0 batch 400 loss: 0.46347686648368835\n",
            "epoch 0 batch 410 loss: 0.46302592754364014\n",
            "epoch 0 batch 420 loss: 0.3585455119609833\n",
            "epoch 0 batch 430 loss: 0.35742878913879395\n",
            "epoch 0 batch 440 loss: 0.3201964497566223\n",
            "epoch 0 batch 450 loss: 0.35934653878211975\n",
            "epoch 0 batch 460 loss: 0.39752888679504395\n",
            "epoch 0 batch 470 loss: 0.4211616516113281\n",
            "epoch 0 batch 480 loss: 0.3551028072834015\n",
            "epoch 0 batch 490 loss: 0.3480253517627716\n",
            "epoch 0 batch 500 loss: 0.40483662486076355\n",
            "epoch 0 batch 510 loss: 0.41425490379333496\n",
            "epoch 0 batch 520 loss: 0.4083854854106903\n",
            "epoch 0 batch 530 loss: 0.40286603569984436\n",
            "epoch 0 batch 540 loss: 0.33267560601234436\n",
            "epoch 0 batch 550 loss: 0.3866472840309143\n",
            "epoch 0 batch 560 loss: 0.351432204246521\n",
            "epoch 0 batch 570 loss: 0.33821651339530945\n",
            "epoch 0 batch 580 loss: 0.43480774760246277\n",
            "epoch 0 batch 590 loss: 0.40437549352645874\n",
            "epoch 0 batch 600 loss: 0.39511698484420776\n",
            "epoch 0 batch 610 loss: 0.3950291574001312\n",
            "epoch 0 batch 620 loss: 0.3798132836818695\n",
            "epoch 0 batch 630 loss: 0.32708895206451416\n",
            "epoch 0 batch 640 loss: 0.34462589025497437\n",
            "epoch 0 batch 650 loss: 0.39772605895996094\n",
            "epoch 0 batch 660 loss: 0.35574042797088623\n",
            "epoch 0 batch 670 loss: 0.35941410064697266\n",
            "epoch 0 batch 680 loss: 0.3219277560710907\n",
            "epoch 0 batch 690 loss: 0.34011754393577576\n",
            "epoch 0 batch 700 loss: 0.38866639137268066\n",
            "epoch 0 batch 710 loss: 0.3544793725013733\n",
            "epoch 1 batch 0 loss: 0.36934998631477356\n",
            "epoch 1 batch 10 loss: 0.33468666672706604\n",
            "epoch 1 batch 20 loss: 0.4162746071815491\n",
            "epoch 1 batch 30 loss: 0.3480864465236664\n",
            "epoch 1 batch 40 loss: 0.3766253888607025\n",
            "epoch 1 batch 50 loss: 0.2850319445133209\n",
            "epoch 1 batch 60 loss: 0.39263299107551575\n",
            "epoch 1 batch 70 loss: 0.3568347096443176\n",
            "epoch 1 batch 80 loss: 0.3331780433654785\n",
            "epoch 1 batch 90 loss: 0.3002455532550812\n",
            "epoch 1 batch 100 loss: 0.32598114013671875\n",
            "epoch 1 batch 110 loss: 0.3363180160522461\n",
            "epoch 1 batch 120 loss: 0.4476824998855591\n",
            "epoch 1 batch 130 loss: 0.37967005372047424\n",
            "epoch 1 batch 140 loss: 0.35383597016334534\n",
            "epoch 1 batch 150 loss: 0.3628031015396118\n",
            "epoch 1 batch 160 loss: 0.37161725759506226\n",
            "epoch 1 batch 170 loss: 0.3000721335411072\n",
            "epoch 1 batch 180 loss: 0.39387935400009155\n",
            "epoch 1 batch 190 loss: 0.35602498054504395\n",
            "epoch 1 batch 200 loss: 0.3320775330066681\n",
            "epoch 1 batch 210 loss: 0.34213313460350037\n",
            "epoch 1 batch 220 loss: 0.37658366560935974\n",
            "epoch 1 batch 230 loss: 0.33488592505455017\n",
            "epoch 1 batch 240 loss: 0.35410189628601074\n",
            "epoch 1 batch 250 loss: 0.34003138542175293\n",
            "epoch 1 batch 260 loss: 0.32353752851486206\n",
            "epoch 1 batch 270 loss: 0.3435966968536377\n",
            "epoch 1 batch 280 loss: 0.30686289072036743\n",
            "epoch 1 batch 290 loss: 0.38897499442100525\n",
            "epoch 1 batch 300 loss: 0.4041365683078766\n",
            "epoch 1 batch 310 loss: 0.3303016424179077\n",
            "epoch 1 batch 320 loss: 0.32331305742263794\n",
            "epoch 1 batch 330 loss: 0.38764894008636475\n",
            "epoch 1 batch 340 loss: 0.31666100025177\n",
            "epoch 1 batch 350 loss: 0.337783545255661\n",
            "epoch 1 batch 360 loss: 0.31348368525505066\n",
            "epoch 1 batch 370 loss: 0.3020896315574646\n",
            "epoch 1 batch 380 loss: 0.31839632987976074\n",
            "epoch 1 batch 390 loss: 0.33816003799438477\n",
            "epoch 1 batch 400 loss: 0.37822699546813965\n",
            "epoch 1 batch 410 loss: 0.39999639987945557\n",
            "epoch 1 batch 420 loss: 0.3095974922180176\n",
            "epoch 1 batch 430 loss: 0.2745324373245239\n",
            "epoch 1 batch 440 loss: 0.2713925540447235\n",
            "epoch 1 batch 450 loss: 0.29617777466773987\n",
            "epoch 1 batch 460 loss: 0.3052283823490143\n",
            "epoch 1 batch 470 loss: 0.3433648645877838\n",
            "epoch 1 batch 480 loss: 0.2562963664531708\n",
            "epoch 1 batch 490 loss: 0.2755492925643921\n",
            "epoch 1 batch 500 loss: 0.3058772087097168\n",
            "epoch 1 batch 510 loss: 0.3551870286464691\n",
            "epoch 1 batch 520 loss: 0.34528154134750366\n",
            "epoch 1 batch 530 loss: 0.34967729449272156\n",
            "epoch 1 batch 540 loss: 0.26766300201416016\n",
            "epoch 1 batch 550 loss: 0.2882898449897766\n",
            "epoch 1 batch 560 loss: 0.31431877613067627\n",
            "epoch 1 batch 570 loss: 0.29055070877075195\n",
            "epoch 1 batch 580 loss: 0.3604138195514679\n",
            "epoch 1 batch 590 loss: 0.3518373966217041\n",
            "epoch 1 batch 600 loss: 0.33849048614501953\n",
            "epoch 1 batch 610 loss: 0.3260071575641632\n",
            "epoch 1 batch 620 loss: 0.3027653694152832\n",
            "epoch 1 batch 630 loss: 0.2759420573711395\n",
            "epoch 1 batch 640 loss: 0.2836434841156006\n",
            "epoch 1 batch 650 loss: 0.3722314238548279\n",
            "epoch 1 batch 660 loss: 0.30417734384536743\n",
            "epoch 1 batch 670 loss: 0.3296964168548584\n",
            "epoch 1 batch 680 loss: 0.27292200922966003\n",
            "epoch 1 batch 690 loss: 0.2845211625099182\n",
            "epoch 1 batch 700 loss: 0.3443308174610138\n",
            "epoch 1 batch 710 loss: 0.3087806701660156\n",
            "epoch 2 batch 0 loss: 0.30803754925727844\n",
            "epoch 2 batch 10 loss: 0.2749384939670563\n",
            "epoch 2 batch 20 loss: 0.3893216550350189\n",
            "epoch 2 batch 30 loss: 0.3230220079421997\n",
            "epoch 2 batch 40 loss: 0.3321205675601959\n",
            "epoch 2 batch 50 loss: 0.23895250260829926\n",
            "epoch 2 batch 60 loss: 0.3466126322746277\n",
            "epoch 2 batch 70 loss: 0.31985852122306824\n",
            "epoch 2 batch 80 loss: 0.32341259717941284\n",
            "epoch 2 batch 90 loss: 0.25759074091911316\n",
            "epoch 2 batch 100 loss: 0.28520700335502625\n",
            "epoch 2 batch 110 loss: 0.30482470989227295\n",
            "epoch 2 batch 120 loss: 0.4116889238357544\n",
            "epoch 2 batch 130 loss: 0.3553434908390045\n",
            "epoch 2 batch 140 loss: 0.2864677309989929\n",
            "epoch 2 batch 150 loss: 0.3556067943572998\n",
            "epoch 2 batch 160 loss: 0.3327931761741638\n",
            "epoch 2 batch 170 loss: 0.2873486578464508\n",
            "epoch 2 batch 180 loss: 0.36803215742111206\n",
            "epoch 2 batch 190 loss: 0.3080518841743469\n",
            "epoch 2 batch 200 loss: 0.28758880496025085\n",
            "epoch 2 batch 210 loss: 0.28990089893341064\n",
            "epoch 2 batch 220 loss: 0.33119651675224304\n",
            "epoch 2 batch 230 loss: 0.2916823923587799\n",
            "epoch 2 batch 240 loss: 0.3114040791988373\n",
            "epoch 2 batch 250 loss: 0.3057858645915985\n",
            "epoch 2 batch 260 loss: 0.2986432611942291\n",
            "epoch 2 batch 270 loss: 0.29947182536125183\n",
            "epoch 2 batch 280 loss: 0.27618977427482605\n",
            "epoch 2 batch 290 loss: 0.3409755825996399\n",
            "epoch 2 batch 300 loss: 0.3799201548099518\n",
            "epoch 2 batch 310 loss: 0.3103518784046173\n",
            "epoch 2 batch 320 loss: 0.3096523582935333\n",
            "epoch 2 batch 330 loss: 0.3425244987010956\n",
            "epoch 2 batch 340 loss: 0.2820191979408264\n",
            "epoch 2 batch 350 loss: 0.3089160919189453\n",
            "epoch 2 batch 360 loss: 0.27574586868286133\n",
            "epoch 2 batch 370 loss: 0.25584957003593445\n",
            "epoch 2 batch 380 loss: 0.3086424171924591\n",
            "epoch 2 batch 390 loss: 0.3269721269607544\n",
            "epoch 2 batch 400 loss: 0.3574460446834564\n",
            "epoch 2 batch 410 loss: 0.3482392728328705\n",
            "epoch 2 batch 420 loss: 0.2606176435947418\n",
            "epoch 2 batch 430 loss: 0.25763487815856934\n",
            "epoch 2 batch 440 loss: 0.2625765800476074\n",
            "epoch 2 batch 450 loss: 0.2749926745891571\n",
            "epoch 2 batch 460 loss: 0.26699039340019226\n",
            "epoch 2 batch 470 loss: 0.3087488114833832\n",
            "epoch 2 batch 480 loss: 0.2588263154029846\n",
            "epoch 2 batch 490 loss: 0.26943960785865784\n",
            "epoch 2 batch 500 loss: 0.2884026765823364\n",
            "epoch 2 batch 510 loss: 0.31468358635902405\n",
            "epoch 2 batch 520 loss: 0.3345942497253418\n",
            "epoch 2 batch 530 loss: 0.33887943625450134\n",
            "epoch 2 batch 540 loss: 0.2343447208404541\n",
            "epoch 2 batch 550 loss: 0.2717910408973694\n",
            "epoch 2 batch 560 loss: 0.28655189275741577\n",
            "epoch 2 batch 570 loss: 0.270588755607605\n",
            "epoch 2 batch 580 loss: 0.3460044264793396\n",
            "epoch 2 batch 590 loss: 0.3208460807800293\n",
            "epoch 2 batch 600 loss: 0.32762303948402405\n",
            "epoch 2 batch 610 loss: 0.31449535489082336\n",
            "epoch 2 batch 620 loss: 0.2844840884208679\n",
            "epoch 2 batch 630 loss: 0.2664045989513397\n",
            "epoch 2 batch 640 loss: 0.27619487047195435\n",
            "epoch 2 batch 650 loss: 0.31931787729263306\n",
            "epoch 2 batch 660 loss: 0.2818478047847748\n",
            "epoch 2 batch 670 loss: 0.2792505919933319\n",
            "epoch 2 batch 680 loss: 0.2532043755054474\n",
            "epoch 2 batch 690 loss: 0.26733484864234924\n",
            "epoch 2 batch 700 loss: 0.3325018584728241\n",
            "epoch 2 batch 710 loss: 0.30790993571281433\n"
          ]
        }
      ]
    },
    {
      "cell_type": "code",
      "source": [
        "def tag(sentence):  # sentence as a string\n",
        "  sentence = nltk.tokenize.word_tokenize(sentence)\n",
        "  tags = myTagger.tag(sentence)[:,1]\n",
        "  return list(zip(sentence, tags))\n",
        "\n",
        "tag(\"Never going to give you up\")"
      ],
      "metadata": {
        "colab": {
          "base_uri": "https://localhost:8080/"
        },
        "id": "VlgZiCAM_aga",
        "outputId": "1582536a-09f2-4112-a186-6cdbdddb65ec"
      },
      "execution_count": 314,
      "outputs": [
        {
          "output_type": "execute_result",
          "data": {
            "text/plain": [
              "[('Never', 'ADV'),\n",
              " ('going', 'VERB'),\n",
              " ('to', 'ADP'),\n",
              " ('give', 'VERB'),\n",
              " ('you', 'PRON'),\n",
              " ('up', 'PRT')]"
            ]
          },
          "metadata": {},
          "execution_count": 314
        }
      ]
    },
    {
      "cell_type": "code",
      "source": [
        "pred = []\n",
        "true = []\n",
        "for sentence in val_sents:\n",
        "  sentence = np.array(sentence)\n",
        "  true = true + list(sentence[:,1])\n",
        "  if len(sentence) == 1:\n",
        "    pred = pred + [\".\"]\n",
        "  else:\n",
        "    pred = pred + list(myTagger.tag(sentence[:,0])[:,1])"
      ],
      "metadata": {
        "id": "dGX99hrQAR8h"
      },
      "execution_count": 315,
      "outputs": []
    },
    {
      "cell_type": "code",
      "source": [
        "print(metrics.classification_report(true, pred, digits=4))"
      ],
      "metadata": {
        "colab": {
          "base_uri": "https://localhost:8080/"
        },
        "id": "BntnoyV0Sk9s",
        "outputId": "33eccc46-1d37-4708-b35d-cd940553911b"
      },
      "execution_count": 316,
      "outputs": [
        {
          "output_type": "stream",
          "name": "stdout",
          "text": [
            "              precision    recall  f1-score   support\n",
            "\n",
            "           .     0.9986    1.0000    0.9993     29382\n",
            "         ADJ     0.8881    0.7981    0.8407     16634\n",
            "         ADP     0.8015    0.8055    0.8035     28737\n",
            "         ADV     0.8432    0.8716    0.8571     11299\n",
            "        CONJ     0.4817    0.5647    0.5199      7595\n",
            "         DET     0.9527    0.8536    0.9004     27324\n",
            "        NOUN     0.8143    0.9427    0.8738     54697\n",
            "         NUM     0.9626    0.9365    0.9493      2882\n",
            "        PRON     0.9869    0.9516    0.9689     10054\n",
            "         PRT     0.8072    0.3479    0.4862      5775\n",
            "        VERB     0.9687    0.9150    0.9411     36384\n",
            "           X     0.6667    0.1286    0.2156       280\n",
            "\n",
            "    accuracy                         0.8762    231043\n",
            "   macro avg     0.8477    0.7596    0.7797    231043\n",
            "weighted avg     0.8816    0.8762    0.8745    231043\n",
            "\n"
          ]
        }
      ]
    },
    {
      "cell_type": "code",
      "source": [
        "# cm = metrics.confusion_matrix(true,pred)\n",
        "# print(cm)\n",
        "# metrics.ConfusionMatrixDisplay(confusion_matrix = cm, display_labels = preprocess(myTagger.tagset)).plot(include_values = False)\n",
        "disp = metrics.ConfusionMatrixDisplay.from_predictions( true, pred, labels=myTagger.tagset, display_labels=myTagger.tagset, values_format='') \n",
        "fig = disp.ax_.get_figure() \n",
        "fig.set_figwidth(9)\n",
        "fig.set_figheight(9)  "
      ],
      "metadata": {
        "colab": {
          "base_uri": "https://localhost:8080/",
          "height": 526
        },
        "id": "8nSfCip-SntJ",
        "outputId": "c9c2a091-fb2d-4663-dcf1-3440e2a4717c"
      },
      "execution_count": 317,
      "outputs": [
        {
          "output_type": "display_data",
          "data": {
            "text/plain": [
              "<Figure size 648x648 with 2 Axes>"
            ],
            "image/png": "[encoded data removed]"
          },
          "metadata": {
            "needs_background": "light"
          }
        }
      ]
    },
    {
      "cell_type": "code",
      "source": [
        "frac = 0.2\n",
        "all_sentences = np.array(brown.tagged_sents(tagset=\"universal\"), dtype=\"object\")\n",
        "n_total = len(all_sentences)\n",
        "n_val = math.floor(n_total*frac)\n",
        "\n",
        "indices = np.arange(n_total)\n",
        "np.random.shuffle(indices)\n",
        "\n",
        "cross_valdation_accuracies = np.zeros(5)\n",
        "\n",
        "for k in range(5):\n",
        "  tmp = np.floor(np.arange(n_total)/n_val)\n",
        "  train_ids = indices[ tmp != k ]\n",
        "  val_ids = indices[ tmp == k ]\n",
        "  \n",
        "  train_sents = all_sentences[ train_ids ]\n",
        "  val_sents = all_sentences[ val_ids ]\n",
        "\n",
        "  myTagger = POS_tagger(train_sents)\n",
        "  myTagger.train()\n",
        "\n",
        "  pred = []\n",
        "  true = []\n",
        "  for sentence in val_sents:\n",
        "    sentence = np.array(sentence)\n",
        "    true = true + list(sentence[:,1])\n",
        "    if len(sentence) == 1:\n",
        "      pred = pred + [\".\"]\n",
        "    else:\n",
        "      pred = pred + list(myTagger.tag(sentence[:,0])[:,1])\n",
        "\n",
        "  from sklearn import metrics\n",
        "  cm = metrics.confusion_matrix(true,pred)\n",
        "\n",
        "  cross_valdation_accuracies[k] = np.trace(cm)/np.sum(cm)"
      ],
      "metadata": {
        "id": "YObpdMoNSpnr"
      },
      "execution_count": 323,
      "outputs": []
    },
    {
      "cell_type": "code",
      "source": [
        "print(cross_valdation_accuracies)\n",
        "print(cross_valdation_accuracies.mean())"
      ],
      "metadata": {
        "colab": {
          "base_uri": "https://localhost:8080/"
        },
        "id": "yJDhMHEuSs-l",
        "outputId": "73cef602-06f5-4ebe-cb03-399c2f930a45"
      },
      "execution_count": 334,
      "outputs": [
        {
          "output_type": "stream",
          "name": "stdout",
          "text": [
            "[0.87561114 0.87596567 0.87261018 0.87310012 0.87427426]\n",
            "0.874312272569504\n"
          ]
        }
      ]
    },
    {
      "cell_type": "code",
      "source": [],
      "metadata": {
        "id": "mVrr8svA1H9B"
      },
      "execution_count": null,
      "outputs": []
    }
  ]
}